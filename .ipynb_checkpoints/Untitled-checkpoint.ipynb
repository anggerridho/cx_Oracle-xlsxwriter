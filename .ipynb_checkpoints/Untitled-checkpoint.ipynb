{
 "cells": [
  {
   "cell_type": "code",
   "execution_count": 36,
   "id": "bottom-upper",
   "metadata": {},
   "outputs": [
    {
     "name": "stdout",
     "output_type": "stream",
     "text": [
      "       Date Type  Attempt  Success      SR\n",
      "0  20210403   MT  1722385  1720081   99.86\n",
      "1  20210403   M0   178734   178734  100.00\n"
     ]
    }
   ],
   "source": [
    "import pandas as pd\n",
    "import paramiko\n",
    "import csv\n",
    "ssh = paramiko.SSHClient()\n",
    "ssh.set_missing_host_key_policy(paramiko.AutoAddPolicy())\n",
    "ssh.connect('192.168.0.7', 1115, username='trbt', password='.pteluon')\n",
    "stdin, stdout, stderr = ssh.exec_command('cat /TRBT/rpt/daily/20210403/26.success_rate_MT_MO_20210403.csv')\n",
    "df = pd.read_csv(stdout, sep=',')\n",
    "df.to_csv(r'success_rate_MT_MO.csv', sep=',',index=False, header=False, mode='a')"
   ]
  },
  {
   "cell_type": "code",
   "execution_count": null,
   "id": "administrative-gambling",
   "metadata": {},
   "outputs": [],
   "source": []
  }
 ],
 "metadata": {
  "kernelspec": {
   "display_name": "Python 3",
   "language": "python",
   "name": "python3"
  },
  "language_info": {
   "codemirror_mode": {
    "name": "ipython",
    "version": 3
   },
   "file_extension": ".py",
   "mimetype": "text/x-python",
   "name": "python",
   "nbconvert_exporter": "python",
   "pygments_lexer": "ipython3",
   "version": "3.8.5"
  }
 },
 "nbformat": 4,
 "nbformat_minor": 5
}
