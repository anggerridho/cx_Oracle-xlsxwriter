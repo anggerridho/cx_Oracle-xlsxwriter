{
 "cells": [
  {
   "cell_type": "code",
   "execution_count": null,
   "id": "coral-desire",
   "metadata": {},
   "outputs": [],
   "source": [
    "TOKEN=\"1273628193:AAGfFDAO2res2DeaGHOLVxLFxz25E06LYrY\"\n",
    "CHAT_ID=\"214749655\"\n",
    "CHID=\"-1001475662404\"\n",
    "URL=\"https://api.telegram.org/bot${TOKEN}/sendMessage\"\n",
    "telegram(){\n",
    "MSG=`echo $*`\n",
    "curl -s -X POST ${URL} -d chat_id=${CHAT_ID} -d text=\"${MSG}\" > /dev/null 2&>1\n",
    "}\n",
    "tlgroup(){\n",
    "MSG=`echo $*`\n",
    "curl -s -X POST ${URL} -d chat_id=${CHID} -d text=\"${MSG}\" > /dev/null 2&>1\n",
    "}\n"
   ]
  },
  {
   "cell_type": "code",
   "execution_count": 10,
   "id": "aware-gates",
   "metadata": {},
   "outputs": [],
   "source": [
    "import datetime\n",
    "now = datetime.date.today()\n",
    "# datetime.datetime.now().strftime(\"%Y-%m-%d %H:%M:%S\")"
   ]
  },
  {
   "cell_type": "code",
   "execution_count": null,
   "id": "infectious-richards",
   "metadata": {},
   "outputs": [],
   "source": [
    "TOKEN=\"1273628193:AAGfFDAO2res2DeaGHOLVxLFxz25E06LYrY\"\n",
    "CHAT_ID=\"214749655\"\n",
    "CHID=\"-1001475662404\"\n",
    "URL=\"https://api.telegram.org/bot${TOKEN}/sendMessage\""
   ]
  },
  {
   "cell_type": "code",
   "execution_count": null,
   "id": "quick-proxy",
   "metadata": {},
   "outputs": [],
   "source": [
    "curl -s -X POST URL -d chat_id=CHAT_ID -d text=\"TEST PYTHON\""
   ]
  },
  {
   "cell_type": "code",
   "execution_count": 9,
   "id": "figured-grammar",
   "metadata": {},
   "outputs": [],
   "source": [
    "def tel(*msg):\n",
    "    import requests\n",
    "    TOKEN=\"1273628193:AAGfFDAO2res2DeaGHOLVxLFxz25E06LYrY\"\n",
    "    CHAT_ID=\"214749655\"\n",
    "    API_ENDPOINT = \"https://api.telegram.org/bot\"+ TOKEN +\"/sendMessage\"\n",
    "    data = {'chat_id':CHAT_ID,'text':msg}\n",
    "    requests.post(url = API_ENDPOINT, data = data)\n",
    "\n",
    "chat = 'buka puasa'+datetime.datetime.now().strftime(\"%Y-%m-%d %H:%M:%S\")\n",
    "tel(chat)"
   ]
  },
  {
   "cell_type": "code",
   "execution_count": 6,
   "id": "desperate-sullivan",
   "metadata": {},
   "outputs": [
    {
     "name": "stdout",
     "output_type": "stream",
     "text": [
      "a\n"
     ]
    }
   ],
   "source": [
    "def myFun(*argv): \n",
    "    for arg in argv: \n",
    "        print (arg)\n",
    "    \n",
    "myFun('a') "
   ]
  },
  {
   "cell_type": "code",
   "execution_count": null,
   "id": "rational-antibody",
   "metadata": {},
   "outputs": [],
   "source": []
  }
 ],
 "metadata": {
  "kernelspec": {
   "display_name": "Python 3",
   "language": "python",
   "name": "python3"
  },
  "language_info": {
   "codemirror_mode": {
    "name": "ipython",
    "version": 3
   },
   "file_extension": ".py",
   "mimetype": "text/x-python",
   "name": "python",
   "nbconvert_exporter": "python",
   "pygments_lexer": "ipython3",
   "version": "3.8.5"
  }
 },
 "nbformat": 4,
 "nbformat_minor": 5
}
